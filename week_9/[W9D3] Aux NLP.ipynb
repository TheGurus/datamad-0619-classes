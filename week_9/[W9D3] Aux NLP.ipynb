{
 "cells": [
  {
   "cell_type": "markdown",
   "metadata": {},
   "source": [
    "# AUX"
   ]
  },
  {
   "cell_type": "markdown",
   "metadata": {},
   "source": [
    "## Sentiment Analysis"
   ]
  },
  {
   "cell_type": "code",
   "execution_count": 1,
   "metadata": {},
   "outputs": [
    {
     "name": "stderr",
     "output_type": "stream",
     "text": [
      "[nltk_data] Downloading package vader_lexicon to\n",
      "[nltk_data]     /home/ubuntu/nltk_data...\n",
      "[nltk_data]   Package vader_lexicon is already up-to-date!\n"
     ]
    }
   ],
   "source": [
    "import nltk\n",
    "nltk.download('vader_lexicon')\n",
    "\n",
    "from nltk.sentiment.vader import SentimentIntensityAnalyzer"
   ]
  },
  {
   "cell_type": "code",
   "execution_count": 2,
   "metadata": {},
   "outputs": [],
   "source": [
    "fargo_review = \"Fargo is a great piece of movie. It has a strong story and a strong cast. It's down to earth and believable. Jerry Lundegaard is in some trouble. He hires two small time crocks from Fargo to kidnap his wife. The plan is for her father to pay off and for Jerry to take the money. Things don't exactly goes as planned as they kill three people and get a pregnant Chief on their tail. The Coen brothers have does a terrific job on this movie. It's a well written, original story with an original setting and it doesn't try to be anything it isn't. Just a few characters, a simple plot and small scale. They stay away of clichés and don't even remotely try to mix in anything of that regular Hollywood crap. They manage to capture the mood, the people and the action pretty good. The characters are great, they're reasonable and believable. They manage to keep it serious, but not too serious and put inn a joke here and there. The actors are great. They way they manage to put on a happy smile and make it seem polite and a little, but not all too false in a great way. William H. Macy is great as Jerry Lundegaard. He gives a little nervous, kind of boy scout performance and it fits perfect. Steve Buscemi and Peter Stormare makes two great small time losers. Buscemi is great as a small, funny looking, constant talking bad guy and Stormare fits the big silent, violent, psychopath type really good and they act these characters all the way out. Kristin Rudrüd does a good job as Jean Lundegaard and Harve Presnell as the rich dad is always a winner. The cinematography is good. All of the shots are good looking and some of them are original, cool and extra good looking. All of the shots are well composed, the lightning is good, but not much out of the ordinary. There are a nice play with the colors in some shots involving the snow. The score is really nice. The theme is a little sad and so is the movie. It's moody and supports the action and fits the settings very well. It's used in a classical way between the action and that works very well, it makes the action seem more real and more close. Fargo is a original movie out of the ordinary. The story is good, well written and it's well brought to life and captured. The Coen brothers has made a timeless and very enjoyable movie. See it!\""
   ]
  },
  {
   "cell_type": "code",
   "execution_count": 3,
   "metadata": {},
   "outputs": [
    {
     "data": {
      "text/plain": [
       "{'neg': 0.064, 'neu': 0.665, 'pos': 0.271, 'compound': 0.9989}"
      ]
     },
     "execution_count": 3,
     "metadata": {},
     "output_type": "execute_result"
    }
   ],
   "source": [
    "sentiment_analyzer = SentimentIntensityAnalyzer()\n",
    "sentiment_analyzer.polarity_scores(fargo_review)"
   ]
  },
  {
   "cell_type": "markdown",
   "metadata": {},
   "source": [
    "## Sentecizer"
   ]
  },
  {
   "cell_type": "code",
   "execution_count": 4,
   "metadata": {},
   "outputs": [],
   "source": [
    "from spacy.lang.en import English\n",
    "\n",
    "nlp = English()\n",
    "nlp.add_pipe(nlp.create_pipe('sentencizer'))"
   ]
  },
  {
   "cell_type": "code",
   "execution_count": 5,
   "metadata": {},
   "outputs": [
    {
     "name": "stdout",
     "output_type": "stream",
     "text": [
      "Hello, world.\n",
      "Here are two sentences.\n"
     ]
    }
   ],
   "source": [
    "raw_text = 'Hello, world. Here are two sentences.'\n",
    "\n",
    "doc = nlp(raw_text)\n",
    "for sent in doc.sents:\n",
    "    print(sent)"
   ]
  },
  {
   "cell_type": "code",
   "execution_count": null,
   "metadata": {},
   "outputs": [],
   "source": []
  }
 ],
 "metadata": {
  "kernelspec": {
   "display_name": "Python 3",
   "language": "python",
   "name": "python3"
  },
  "language_info": {
   "codemirror_mode": {
    "name": "ipython",
    "version": 3
   },
   "file_extension": ".py",
   "mimetype": "text/x-python",
   "name": "python",
   "nbconvert_exporter": "python",
   "pygments_lexer": "ipython3",
   "version": "3.6.7"
  }
 },
 "nbformat": 4,
 "nbformat_minor": 2
}
