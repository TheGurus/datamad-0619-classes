{
 "cells": [
  {
   "cell_type": "code",
   "execution_count": 2,
   "metadata": {},
   "outputs": [],
   "source": [
    "import spotipy\n",
    "from spotipy.oauth2 import SpotifyClientCredentials\n",
    "\n",
    "CID = '201e56b767154817b46c5cf2fcb26fec'\n",
    "SECRET = 'd7026ef7aa784204a601b9e2e651d292'\n",
    "\n",
    "client_credentials_manager = SpotifyClientCredentials(client_id=CID, client_secret=SECRET)\n",
    "sp = spotipy.Spotify(client_credentials_manager=client_credentials_manager)"
   ]
  },
  {
   "cell_type": "code",
   "execution_count": 3,
   "metadata": {},
   "outputs": [],
   "source": [
    "def get_song(artist, song):\n",
    "    \n",
    "    search = sp.search(q='artist:' + artist + ' track:' + song, type='track')\n",
    "    top = search['tracks']['items'][:10]\n",
    "    \n",
    "    ids = []\n",
    "    if len(top):\n",
    "        for i, song in enumerate(top):\n",
    "            print(f\"{i+1}. {song['name']} - {song['artists'][0]['name']}\")\n",
    "            ids.append([song['name'].replace(' ', ''), song['id']])\n",
    "        return ids\n",
    "    else:\n",
    "        print('song not found')\n",
    "        return None"
   ]
  },
  {
   "cell_type": "code",
   "execution_count": 7,
   "metadata": {},
   "outputs": [
    {
     "name": "stdout",
     "output_type": "stream",
     "text": [
      "1. Born in the U.S.A. - Bruce Springsteen\n",
      "2. Born to Run - Bruce Springsteen\n",
      "3. Born to Run - Bruce Springsteen\n",
      "4. Born to Run - Springsteen on Broadway - Bruce Springsteen\n",
      "5. Born In the U.S.A. - Springsteen on Broadway - Bruce Springsteen\n",
      "6. Born To Run - Live at Giants Stadium, E. Rutherford, NJ - August 1985 - Bruce Springsteen\n",
      "7. Born to Run - Bruce Springsteen\n",
      "8. Born to Run - Bruce Springsteen\n",
      "9. Born In The U.S.A. - Live at LA Coliseum, Los Angeles, CA - September 1985 - Bruce Springsteen\n",
      "10. Born In The USA - Live - Bruce Springsteen\n"
     ]
    }
   ],
   "source": [
    "artist = 'bruce springsteen'\n",
    "song = 'born'\n",
    "\n",
    "songs = get_song(artist, song)"
   ]
  },
  {
   "cell_type": "code",
   "execution_count": 8,
   "metadata": {},
   "outputs": [],
   "source": [
    "import urllib\n",
    "import os\n",
    "\n",
    "def download_song(song_name, song_id):\n",
    "    url = sp.track(song_id)['preview_url']\n",
    "    print(f'downloading {song_name}...')\n",
    "    try:\n",
    "        urllib.request.urlretrieve(url, f'{song_name}.mp3')\n",
    "        print('file downloaded')\n",
    "        os.system(f'mpg123 {song_name}.mp3')\n",
    "        \n",
    "    except:\n",
    "        print('preview not available')"
   ]
  },
  {
   "cell_type": "code",
   "execution_count": 9,
   "metadata": {},
   "outputs": [
    {
     "name": "stdout",
     "output_type": "stream",
     "text": [
      "downloading BornintheU.S.A....\n",
      "file downloaded\n"
     ]
    }
   ],
   "source": [
    "id = 1\n",
    "download_song(songs[id - 1][0], songs[id - 1][1])"
   ]
  },
  {
   "cell_type": "code",
   "execution_count": 29,
   "metadata": {
    "scrolled": true
   },
   "outputs": [
    {
     "name": "stdout",
     "output_type": "stream",
     "text": [
      "total 1796\r\n",
      "drwxr-xr-x  3 ubuntu ubuntu   4096 ago  8 18:34 .\r\n",
      "drwxr-xr-x 69 ubuntu ubuntu   4096 ago  8 18:24 ..\r\n",
      "drwxr-xr-x  2 ubuntu ubuntu   4096 ago  8 10:47 .ipynb_checkpoints\r\n",
      "-rw-r--r--  1 ubuntu ubuntu 362861 ago  8 18:24 MALAMENTE-Cap.1:Augurio.mp3\r\n",
      "-rw-r--r--  1 ubuntu ubuntu 362861 ago  8 18:28 Marijuana.mp3\r\n",
      "-rw-r--r--  1 ubuntu ubuntu 363885 ago  8 18:34 RockandRoll-Remaster.mp3\r\n",
      "-rw-r--r--  1 ubuntu ubuntu   3868 ago  8 18:33 Untitled.ipynb\r\n",
      "-rw-r--r--  1 ubuntu ubuntu 363885 ago  8 18:32 ViejosCiegos.mp3\r\n",
      "-rw-r--r--  1 ubuntu ubuntu 362861 ago  8 18:30 Нанебі.mp3\r\n"
     ]
    }
   ],
   "source": [
    "! ls -al"
   ]
  },
  {
   "cell_type": "code",
   "execution_count": null,
   "metadata": {},
   "outputs": [],
   "source": []
  }
 ],
 "metadata": {
  "kernelspec": {
   "display_name": "Python 3",
   "language": "python",
   "name": "python3"
  },
  "language_info": {
   "codemirror_mode": {
    "name": "ipython",
    "version": 3
   },
   "file_extension": ".py",
   "mimetype": "text/x-python",
   "name": "python",
   "nbconvert_exporter": "python",
   "pygments_lexer": "ipython3",
   "version": "3.6.7"
  }
 },
 "nbformat": 4,
 "nbformat_minor": 2
}
